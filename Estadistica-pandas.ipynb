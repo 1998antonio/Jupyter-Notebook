{
 "cells": [
  {
   "cell_type": "markdown",
   "id": "49c7b42f-b705-413a-aa39-0d384ec5c1a0",
   "metadata": {},
   "source": [
    "# Estadistica en AI\n",
    "\n",
    "La estadistica es la mejor forma de describir las carasteristicas de un conjunto de datos. Por esta razon, la parte exploratoria en el proceso de creacion de un algoritmo inteligente involucra el uso de metodos estadisticos.\n",
    "\n",
    "## Conceptos utiles sobre estadistica \n",
    "\n",
    "### Variables\n",
    "\n",
    "Una variable estadistica es una *caracteristica* de un conjunto de datos. Por ejemplo, en un ser de datos que almacena informacion sobre transacciones bancarias, el `monto` y la `fecha` son variables. En algunos casos, las variables se conocen como *dimensiones*. En inteligencia artificial, les llamaremos comunmente **features**.\n",
    "\n",
    "#### Tipos de Variables\n",
    "\n",
    "- Discretas: unicamente pueden tomar datos de un conjunto finito de opciones. Tambien suelen ser conocidas como categoricas.\n",
    "- Continuas: pueden tomar cualquier valor en una recta numerica que tiende al infinito. Deben ser cuantificables.\n"
   ]
  },
  {
   "cell_type": "code",
   "execution_count": 1,
   "id": "90758286-71a5-46d9-8f54-235818bc84a6",
   "metadata": {},
   "outputs": [
    {
     "name": "stdout",
     "output_type": "stream",
     "text": [
      "{'nombres': ['Hector', 'Issac', 'Roger', 'Marco', 'Jorge', 'Jona'], 'posicion': [1, 2, 3, 4, 5, 6], 'altura': [1.8, 1.74, 1.7, 1.75, 1.82, 1.81]}\n"
     ]
    }
   ],
   "source": [
    "# Datos categoricos\n",
    "nombres  = ['Hector', 'Issac', 'Roger', 'Marco', 'Jorge', 'Jona'] \n",
    "posicion = [1, 2, 3, 4, 5, 6]\n",
    "\n",
    "#Datos continuos\n",
    "altura = [1.8, 1.74, 1.7, 1.75, 1.82, 1.81]\n",
    "\n",
    "# Crear un diccionario de listas para almacenar datos categoricos y continuos\n",
    "estructura = {\n",
    "    'nombres': nombres,\n",
    "    'posicion': posicion,\n",
    "    'altura': altura\n",
    "}\n",
    "print(estructura)"
   ]
  },
  {
   "cell_type": "code",
   "execution_count": 11,
   "id": "d4db2f79-8ec1-4603-ae1a-a102bafd10a6",
   "metadata": {},
   "outputs": [
    {
     "name": "stdout",
     "output_type": "stream",
     "text": [
      "Marco\n",
      "4\n",
      "1.75\n"
     ]
    }
   ],
   "source": [
    "# Reto extra:\n",
    "# Utilizando la variable \"estructura\", imprimir el nombre, posicion y altura del cuarto registro\n",
    "# Debe mostrar algo similar a 'Marco', 4, 1.75\n",
    "\n",
    "print(estructura['nombres'][3])\n",
    "print(estructura['posicion'][3])\n",
    "print(estructura['altura'][3])"
   ]
  },
  {
   "cell_type": "markdown",
   "id": "192500cd-440b-488e-84cc-6f18187d0134",
   "metadata": {},
   "source": [
    "# Pandas\n",
    "\n",
    "[Pandas](https://pandas.pydata.org/) es una librería de alto rendimiento para manipulación de estructuras de datos. Actualmente, es una de las librerías más populares en ciencia de datos, inteligencia artificial, análisis económico, entre otros."
   ]
  },
  {
   "cell_type": "code",
   "execution_count": 8,
   "id": "8bf1c7ac-a4a9-484a-ac83-a8ba99bd1dd3",
   "metadata": {},
   "outputs": [],
   "source": [
    "# Manipulación de datos\n",
    "import pandas as pd\n",
    "# Operaciones numéricas\n",
    "import numpy as np\n",
    "# Creación de gráficos y visualizaciones\n",
    "import matplotlib.pyplot as plt"
   ]
  },
  {
   "cell_type": "markdown",
   "id": "be41248a-9519-4eea-a6db-50a937cd905d",
   "metadata": {},
   "source": [
    "En pandas, los sets de datos se representan en estructuras llamadas `DataFrame` (usualmente abreviado `df`).\n",
    "\n",
    "Un `df` puede ser creado de diferentes maneras, en esta sección utilizaremos la `estructura` que ya teníamos para hacer pruebas."
   ]
  },
  {
   "cell_type": "code",
   "execution_count": 9,
   "id": "452f711a-890d-4e52-96ee-fab92ef0fbdb",
   "metadata": {},
   "outputs": [
    {
     "data": {
      "text/html": [
       "<div>\n",
       "<style scoped>\n",
       "    .dataframe tbody tr th:only-of-type {\n",
       "        vertical-align: middle;\n",
       "    }\n",
       "\n",
       "    .dataframe tbody tr th {\n",
       "        vertical-align: top;\n",
       "    }\n",
       "\n",
       "    .dataframe thead th {\n",
       "        text-align: right;\n",
       "    }\n",
       "</style>\n",
       "<table border=\"1\" class=\"dataframe\">\n",
       "  <thead>\n",
       "    <tr style=\"text-align: right;\">\n",
       "      <th></th>\n",
       "      <th>nombres</th>\n",
       "      <th>posicion</th>\n",
       "      <th>altura</th>\n",
       "    </tr>\n",
       "  </thead>\n",
       "  <tbody>\n",
       "    <tr>\n",
       "      <th>0</th>\n",
       "      <td>Hector</td>\n",
       "      <td>1</td>\n",
       "      <td>1.80</td>\n",
       "    </tr>\n",
       "    <tr>\n",
       "      <th>1</th>\n",
       "      <td>Issac</td>\n",
       "      <td>2</td>\n",
       "      <td>1.74</td>\n",
       "    </tr>\n",
       "    <tr>\n",
       "      <th>2</th>\n",
       "      <td>Roger</td>\n",
       "      <td>3</td>\n",
       "      <td>1.70</td>\n",
       "    </tr>\n",
       "    <tr>\n",
       "      <th>3</th>\n",
       "      <td>Marco</td>\n",
       "      <td>4</td>\n",
       "      <td>1.75</td>\n",
       "    </tr>\n",
       "    <tr>\n",
       "      <th>4</th>\n",
       "      <td>Jorge</td>\n",
       "      <td>5</td>\n",
       "      <td>1.82</td>\n",
       "    </tr>\n",
       "    <tr>\n",
       "      <th>5</th>\n",
       "      <td>Jona</td>\n",
       "      <td>6</td>\n",
       "      <td>1.81</td>\n",
       "    </tr>\n",
       "  </tbody>\n",
       "</table>\n",
       "</div>"
      ],
      "text/plain": [
       "  nombres  posicion  altura\n",
       "0  Hector         1    1.80\n",
       "1   Issac         2    1.74\n",
       "2   Roger         3    1.70\n",
       "3   Marco         4    1.75\n",
       "4   Jorge         5    1.82\n",
       "5    Jona         6    1.81"
      ]
     },
     "execution_count": 9,
     "metadata": {},
     "output_type": "execute_result"
    }
   ],
   "source": [
    "# Crear un set de datos (df)\n",
    "umg_df = pd.DataFrame(estructura)\n",
    "\n",
    "# Mostrar el df en consola\n",
    "umg_df"
   ]
  },
  {
   "cell_type": "markdown",
   "id": "902b3de2-b6b0-4779-b0ca-9e02537424cb",
   "metadata": {},
   "source": [
    " En pandas las columnas se denominan **Series**. Para obtener los datos de una serie, se accede a ella como si fuera un diccionario, es decir `df['llave']`."
   ]
  },
  {
   "cell_type": "code",
   "execution_count": 10,
   "id": "c9b177dd-2db3-4af1-a746-9e086d6f1216",
   "metadata": {},
   "outputs": [
    {
     "data": {
      "text/plain": [
       "0    Hector\n",
       "1     Issac\n",
       "2     Roger\n",
       "3     Marco\n",
       "4     Jorge\n",
       "5      Jona\n",
       "Name: nombres, dtype: object"
      ]
     },
     "execution_count": 10,
     "metadata": {},
     "output_type": "execute_result"
    }
   ],
   "source": [
    "# Obtener los datos de una serie, se accede como si fuera un diccionario \n",
    "umg_df['nombres']"
   ]
  },
  {
   "cell_type": "markdown",
   "id": "6f0f9946-88a9-4e5e-8c89-1d213114c3bc",
   "metadata": {},
   "source": [
    "Cada registro en un df se identifica utilizando un indice(`Index`),que usualmente es generado de forma automatica al crear el df. Se accede a el utilizando la propiedad `loc`."
   ]
  },
  {
   "cell_type": "code",
   "execution_count": 12,
   "id": "4eb81281-fcaa-4f64-b331-fe7f87ff13a0",
   "metadata": {},
   "outputs": [
    {
     "data": {
      "text/plain": [
       "nombres     Marco\n",
       "posicion        4\n",
       "altura       1.75\n",
       "Name: 3, dtype: object"
      ]
     },
     "execution_count": 12,
     "metadata": {},
     "output_type": "execute_result"
    }
   ],
   "source": [
    "umg_df.loc[3]"
   ]
  },
  {
   "cell_type": "markdown",
   "id": "a93ac64b-dbb1-45e3-9cfd-4ee839e8e471",
   "metadata": {},
   "source": [
    "Es posible establecer un indice personalizado utilizando una serie del df"
   ]
  },
  {
   "cell_type": "code",
   "execution_count": 14,
   "id": "3ca8f2c2-53dc-4fd1-8610-ef0cf1b06f03",
   "metadata": {},
   "outputs": [
    {
     "data": {
      "text/html": [
       "<div>\n",
       "<style scoped>\n",
       "    .dataframe tbody tr th:only-of-type {\n",
       "        vertical-align: middle;\n",
       "    }\n",
       "\n",
       "    .dataframe tbody tr th {\n",
       "        vertical-align: top;\n",
       "    }\n",
       "\n",
       "    .dataframe thead th {\n",
       "        text-align: right;\n",
       "    }\n",
       "</style>\n",
       "<table border=\"1\" class=\"dataframe\">\n",
       "  <thead>\n",
       "    <tr style=\"text-align: right;\">\n",
       "      <th></th>\n",
       "      <th>nombres</th>\n",
       "      <th>altura</th>\n",
       "    </tr>\n",
       "    <tr>\n",
       "      <th>posicion</th>\n",
       "      <th></th>\n",
       "      <th></th>\n",
       "    </tr>\n",
       "  </thead>\n",
       "  <tbody>\n",
       "    <tr>\n",
       "      <th>1</th>\n",
       "      <td>Hector</td>\n",
       "      <td>1.80</td>\n",
       "    </tr>\n",
       "    <tr>\n",
       "      <th>2</th>\n",
       "      <td>Issac</td>\n",
       "      <td>1.74</td>\n",
       "    </tr>\n",
       "    <tr>\n",
       "      <th>3</th>\n",
       "      <td>Roger</td>\n",
       "      <td>1.70</td>\n",
       "    </tr>\n",
       "    <tr>\n",
       "      <th>4</th>\n",
       "      <td>Marco</td>\n",
       "      <td>1.75</td>\n",
       "    </tr>\n",
       "    <tr>\n",
       "      <th>5</th>\n",
       "      <td>Jorge</td>\n",
       "      <td>1.82</td>\n",
       "    </tr>\n",
       "    <tr>\n",
       "      <th>6</th>\n",
       "      <td>Jona</td>\n",
       "      <td>1.81</td>\n",
       "    </tr>\n",
       "  </tbody>\n",
       "</table>\n",
       "</div>"
      ],
      "text/plain": [
       "         nombres  altura\n",
       "posicion                \n",
       "1         Hector    1.80\n",
       "2          Issac    1.74\n",
       "3          Roger    1.70\n",
       "4          Marco    1.75\n",
       "5          Jorge    1.82\n",
       "6           Jona    1.81"
      ]
     },
     "execution_count": 14,
     "metadata": {},
     "output_type": "execute_result"
    }
   ],
   "source": [
    "# umg_df.drop(['correlativo], axis=1, inplace=True).reset_index()\n",
    "umg_df.set_index('posicion')"
   ]
  },
  {
   "cell_type": "markdown",
   "id": "b497c380-7c52-4a58-a474-363eff1fe553",
   "metadata": {},
   "source": [
    "Muchas funciones ejecutadas por un df no lo modifican de forma inmediata, sino crean un nuevo df con la modificacion realizada."
   ]
  },
  {
   "cell_type": "code",
   "execution_count": 17,
   "id": "d9e69d5c-135a-4c9a-b228-2917460e89e8",
   "metadata": {},
   "outputs": [
    {
     "data": {
      "text/html": [
       "<div>\n",
       "<style scoped>\n",
       "    .dataframe tbody tr th:only-of-type {\n",
       "        vertical-align: middle;\n",
       "    }\n",
       "\n",
       "    .dataframe tbody tr th {\n",
       "        vertical-align: top;\n",
       "    }\n",
       "\n",
       "    .dataframe thead th {\n",
       "        text-align: right;\n",
       "    }\n",
       "</style>\n",
       "<table border=\"1\" class=\"dataframe\">\n",
       "  <thead>\n",
       "    <tr style=\"text-align: right;\">\n",
       "      <th></th>\n",
       "      <th>nombres</th>\n",
       "      <th>altura</th>\n",
       "    </tr>\n",
       "    <tr>\n",
       "      <th>posicion</th>\n",
       "      <th></th>\n",
       "      <th></th>\n",
       "    </tr>\n",
       "  </thead>\n",
       "  <tbody>\n",
       "    <tr>\n",
       "      <th>1</th>\n",
       "      <td>Hector</td>\n",
       "      <td>1.80</td>\n",
       "    </tr>\n",
       "    <tr>\n",
       "      <th>2</th>\n",
       "      <td>Issac</td>\n",
       "      <td>1.74</td>\n",
       "    </tr>\n",
       "    <tr>\n",
       "      <th>3</th>\n",
       "      <td>Roger</td>\n",
       "      <td>1.70</td>\n",
       "    </tr>\n",
       "    <tr>\n",
       "      <th>4</th>\n",
       "      <td>Marco</td>\n",
       "      <td>1.75</td>\n",
       "    </tr>\n",
       "    <tr>\n",
       "      <th>5</th>\n",
       "      <td>Jorge</td>\n",
       "      <td>1.82</td>\n",
       "    </tr>\n",
       "    <tr>\n",
       "      <th>6</th>\n",
       "      <td>Jona</td>\n",
       "      <td>1.81</td>\n",
       "    </tr>\n",
       "  </tbody>\n",
       "</table>\n",
       "</div>"
      ],
      "text/plain": [
       "         nombres  altura\n",
       "posicion                \n",
       "1         Hector    1.80\n",
       "2          Issac    1.74\n",
       "3          Roger    1.70\n",
       "4          Marco    1.75\n",
       "5          Jorge    1.82\n",
       "6           Jona    1.81"
      ]
     },
     "execution_count": 17,
     "metadata": {},
     "output_type": "execute_result"
    }
   ],
   "source": [
    "# Para aplicar los cambios, se debe incluir el parámetro inplace=True\n",
    "umg_df.set_index('posicion', inplace=True)\n",
    "umg_df"
   ]
  },
  {
   "cell_type": "code",
   "execution_count": 16,
   "id": "9c1e4b8a-687f-4e7d-a706-de9dba134041",
   "metadata": {},
   "outputs": [
    {
     "data": {
      "text/html": [
       "<div>\n",
       "<style scoped>\n",
       "    .dataframe tbody tr th:only-of-type {\n",
       "        vertical-align: middle;\n",
       "    }\n",
       "\n",
       "    .dataframe tbody tr th {\n",
       "        vertical-align: top;\n",
       "    }\n",
       "\n",
       "    .dataframe thead th {\n",
       "        text-align: right;\n",
       "    }\n",
       "</style>\n",
       "<table border=\"1\" class=\"dataframe\">\n",
       "  <thead>\n",
       "    <tr style=\"text-align: right;\">\n",
       "      <th></th>\n",
       "      <th>posicion</th>\n",
       "      <th>nombres</th>\n",
       "      <th>altura</th>\n",
       "    </tr>\n",
       "  </thead>\n",
       "  <tbody>\n",
       "    <tr>\n",
       "      <th>0</th>\n",
       "      <td>1</td>\n",
       "      <td>Hector</td>\n",
       "      <td>1.80</td>\n",
       "    </tr>\n",
       "    <tr>\n",
       "      <th>1</th>\n",
       "      <td>2</td>\n",
       "      <td>Issac</td>\n",
       "      <td>1.74</td>\n",
       "    </tr>\n",
       "    <tr>\n",
       "      <th>2</th>\n",
       "      <td>3</td>\n",
       "      <td>Roger</td>\n",
       "      <td>1.70</td>\n",
       "    </tr>\n",
       "    <tr>\n",
       "      <th>3</th>\n",
       "      <td>4</td>\n",
       "      <td>Marco</td>\n",
       "      <td>1.75</td>\n",
       "    </tr>\n",
       "    <tr>\n",
       "      <th>4</th>\n",
       "      <td>5</td>\n",
       "      <td>Jorge</td>\n",
       "      <td>1.82</td>\n",
       "    </tr>\n",
       "    <tr>\n",
       "      <th>5</th>\n",
       "      <td>6</td>\n",
       "      <td>Jona</td>\n",
       "      <td>1.81</td>\n",
       "    </tr>\n",
       "  </tbody>\n",
       "</table>\n",
       "</div>"
      ],
      "text/plain": [
       "   posicion nombres  altura\n",
       "0         1  Hector    1.80\n",
       "1         2   Issac    1.74\n",
       "2         3   Roger    1.70\n",
       "3         4   Marco    1.75\n",
       "4         5   Jorge    1.82\n",
       "5         6    Jona    1.81"
      ]
     },
     "execution_count": 16,
     "metadata": {},
     "output_type": "execute_result"
    }
   ],
   "source": [
    "# Para volver a generar un índice automático\n",
    "umg_df.reset_index(inplace=True)\n",
    "umg_df"
   ]
  },
  {
   "cell_type": "code",
   "execution_count": 19,
   "id": "93c728a6-c62f-42b2-8650-96e9ce516a9c",
   "metadata": {},
   "outputs": [
    {
     "data": {
      "text/plain": [
       "nombres    Jona\n",
       "altura     1.81\n",
       "Name: 6, dtype: object"
      ]
     },
     "execution_count": 19,
     "metadata": {},
     "output_type": "execute_result"
    }
   ],
   "source": [
    "umg_df.loc[6]"
   ]
  },
  {
   "cell_type": "code",
   "execution_count": 20,
   "id": "037fb825-3647-448d-8a52-7468f098397a",
   "metadata": {},
   "outputs": [
    {
     "data": {
      "text/html": [
       "<div>\n",
       "<style scoped>\n",
       "    .dataframe tbody tr th:only-of-type {\n",
       "        vertical-align: middle;\n",
       "    }\n",
       "\n",
       "    .dataframe tbody tr th {\n",
       "        vertical-align: top;\n",
       "    }\n",
       "\n",
       "    .dataframe thead th {\n",
       "        text-align: right;\n",
       "    }\n",
       "</style>\n",
       "<table border=\"1\" class=\"dataframe\">\n",
       "  <thead>\n",
       "    <tr style=\"text-align: right;\">\n",
       "      <th></th>\n",
       "      <th>A</th>\n",
       "      <th>B</th>\n",
       "      <th>C</th>\n",
       "      <th>D</th>\n",
       "      <th>E</th>\n",
       "    </tr>\n",
       "  </thead>\n",
       "  <tbody>\n",
       "    <tr>\n",
       "      <th>0</th>\n",
       "      <td>87</td>\n",
       "      <td>102</td>\n",
       "      <td>87</td>\n",
       "      <td>27</td>\n",
       "      <td>97</td>\n",
       "    </tr>\n",
       "    <tr>\n",
       "      <th>1</th>\n",
       "      <td>84</td>\n",
       "      <td>66</td>\n",
       "      <td>89</td>\n",
       "      <td>83</td>\n",
       "      <td>83</td>\n",
       "    </tr>\n",
       "    <tr>\n",
       "      <th>2</th>\n",
       "      <td>12</td>\n",
       "      <td>49</td>\n",
       "      <td>117</td>\n",
       "      <td>33</td>\n",
       "      <td>64</td>\n",
       "    </tr>\n",
       "    <tr>\n",
       "      <th>3</th>\n",
       "      <td>45</td>\n",
       "      <td>63</td>\n",
       "      <td>10</td>\n",
       "      <td>32</td>\n",
       "      <td>116</td>\n",
       "    </tr>\n",
       "    <tr>\n",
       "      <th>4</th>\n",
       "      <td>99</td>\n",
       "      <td>2</td>\n",
       "      <td>117</td>\n",
       "      <td>39</td>\n",
       "      <td>45</td>\n",
       "    </tr>\n",
       "  </tbody>\n",
       "</table>\n",
       "</div>"
      ],
      "text/plain": [
       "    A    B    C   D    E\n",
       "0  87  102   87  27   97\n",
       "1  84   66   89  83   83\n",
       "2  12   49  117  33   64\n",
       "3  45   63   10  32  116\n",
       "4  99    2  117  39   45"
      ]
     },
     "execution_count": 20,
     "metadata": {},
     "output_type": "execute_result"
    }
   ],
   "source": [
    "# Creación de un conjunto de datos aleatorios\n",
    "prueba_df = pd.DataFrame(\n",
    "    np.random.randint(0, 120, size=(50, 5)),\n",
    "    columns=['A', 'B', 'C', 'D', 'E']\n",
    ")\n",
    "\n",
    "prueba_df.head()"
   ]
  },
  {
   "cell_type": "code",
   "execution_count": 21,
   "id": "0842c474-1393-42e3-9aa6-e938edb2b7dc",
   "metadata": {},
   "outputs": [
    {
     "data": {
      "image/png": "[encoded data removed]",
      "text/plain": [
       "<Figure size 640x480 with 1 Axes>"
      ]
     },
     "metadata": {},
     "output_type": "display_data"
    }
   ],
   "source": [
    "# Distribución\n",
    "prueba_df.boxplot()\n",
    "plt.show()"
   ]
  },
  {
   "cell_type": "code",
   "execution_count": 22,
   "id": "d6f6c7fd-2070-47b6-8cad-e4f73139dc23",
   "metadata": {},
   "outputs": [
    {
     "data": {
      "image/png": "[encoded data removed]",
      "text/plain": [
       "<Figure size 640x480 with 6 Axes>"
      ]
     },
     "metadata": {},
     "output_type": "display_data"
    }
   ],
   "source": [
    "prueba_df.hist()\n",
    "plt.show()"
   ]
  },
  {
   "cell_type": "code",
   "execution_count": 23,
   "id": "bc2ade3f-5748-4157-9a47-881bc9ff5cb5",
   "metadata": {},
   "outputs": [
    {
     "data": {
      "text/plain": [
       "A    52.42\n",
       "B    56.72\n",
       "C    56.30\n",
       "D    58.76\n",
       "E    59.70\n",
       "dtype: float64"
      ]
     },
     "execution_count": 23,
     "metadata": {},
     "output_type": "execute_result"
    }
   ],
   "source": [
    "# Media\n",
    "prueba_df.mean()"
   ]
  },
  {
   "cell_type": "code",
   "execution_count": 24,
   "id": "0f50c33d-93e3-4676-86c5-23d6c1945bc6",
   "metadata": {},
   "outputs": [
    {
     "data": {
      "text/plain": [
       "0    10\n",
       "1    11\n",
       "2    26\n",
       "3    34\n",
       "4    42\n",
       "5    66\n",
       "6    71\n",
       "7    79\n",
       "8    88\n",
       "Name: B, dtype: int32"
      ]
     },
     "execution_count": 24,
     "metadata": {},
     "output_type": "execute_result"
    }
   ],
   "source": [
    "# Mode\n",
    "# Esta es la función para contar\n",
    "prueba_df['B'].mode()"
   ]
  },
  {
   "cell_type": "code",
   "execution_count": 25,
   "id": "9a25dbca-35a4-401e-b0f7-c7c9e4a948bf",
   "metadata": {},
   "outputs": [
    {
     "data": {
      "text/plain": [
       "A    31.924714\n",
       "B    33.517610\n",
       "C    34.918710\n",
       "D    36.631959\n",
       "E    35.487422\n",
       "dtype: float64"
      ]
     },
     "execution_count": 25,
     "metadata": {},
     "output_type": "execute_result"
    }
   ],
   "source": [
    "# Desviación estándar\n",
    "prueba_df.std()"
   ]
  },
  {
   "cell_type": "code",
   "execution_count": 26,
   "id": "5fbf0f76-f58e-4868-a6a6-794f4e05becf",
   "metadata": {},
   "outputs": [
    {
     "data": {
      "text/html": [
       "<div>\n",
       "<style scoped>\n",
       "    .dataframe tbody tr th:only-of-type {\n",
       "        vertical-align: middle;\n",
       "    }\n",
       "\n",
       "    .dataframe tbody tr th {\n",
       "        vertical-align: top;\n",
       "    }\n",
       "\n",
       "    .dataframe thead th {\n",
       "        text-align: right;\n",
       "    }\n",
       "</style>\n",
       "<table border=\"1\" class=\"dataframe\">\n",
       "  <thead>\n",
       "    <tr style=\"text-align: right;\">\n",
       "      <th></th>\n",
       "      <th>A</th>\n",
       "      <th>B</th>\n",
       "      <th>C</th>\n",
       "      <th>D</th>\n",
       "      <th>E</th>\n",
       "    </tr>\n",
       "  </thead>\n",
       "  <tbody>\n",
       "    <tr>\n",
       "      <th>A</th>\n",
       "      <td>1.000000</td>\n",
       "      <td>-0.015718</td>\n",
       "      <td>0.097589</td>\n",
       "      <td>-0.287624</td>\n",
       "      <td>-0.054252</td>\n",
       "    </tr>\n",
       "    <tr>\n",
       "      <th>B</th>\n",
       "      <td>-0.015718</td>\n",
       "      <td>1.000000</td>\n",
       "      <td>-0.083502</td>\n",
       "      <td>0.077849</td>\n",
       "      <td>0.066928</td>\n",
       "    </tr>\n",
       "    <tr>\n",
       "      <th>C</th>\n",
       "      <td>0.097589</td>\n",
       "      <td>-0.083502</td>\n",
       "      <td>1.000000</td>\n",
       "      <td>-0.244287</td>\n",
       "      <td>-0.068141</td>\n",
       "    </tr>\n",
       "    <tr>\n",
       "      <th>D</th>\n",
       "      <td>-0.287624</td>\n",
       "      <td>0.077849</td>\n",
       "      <td>-0.244287</td>\n",
       "      <td>1.000000</td>\n",
       "      <td>0.106869</td>\n",
       "    </tr>\n",
       "    <tr>\n",
       "      <th>E</th>\n",
       "      <td>-0.054252</td>\n",
       "      <td>0.066928</td>\n",
       "      <td>-0.068141</td>\n",
       "      <td>0.106869</td>\n",
       "      <td>1.000000</td>\n",
       "    </tr>\n",
       "  </tbody>\n",
       "</table>\n",
       "</div>"
      ],
      "text/plain": [
       "          A         B         C         D         E\n",
       "A  1.000000 -0.015718  0.097589 -0.287624 -0.054252\n",
       "B -0.015718  1.000000 -0.083502  0.077849  0.066928\n",
       "C  0.097589 -0.083502  1.000000 -0.244287 -0.068141\n",
       "D -0.287624  0.077849 -0.244287  1.000000  0.106869\n",
       "E -0.054252  0.066928 -0.068141  0.106869  1.000000"
      ]
     },
     "execution_count": 26,
     "metadata": {},
     "output_type": "execute_result"
    }
   ],
   "source": [
    "# Correlación\n",
    "prueba_df.corr()"
   ]
  }
 ],
 "metadata": {
  "kernelspec": {
   "display_name": "Python 3 (ipykernel)",
   "language": "python",
   "name": "python3"
  },
  "language_info": {
   "codemirror_mode": {
    "name": "ipython",
    "version": 3
   },
   "file_extension": ".py",
   "mimetype": "text/x-python",
   "name": "python",
   "nbconvert_exporter": "python",
   "pygments_lexer": "ipython3",
   "version": "3.12.7"
  }
 },
 "nbformat": 4,
 "nbformat_minor": 5
}
