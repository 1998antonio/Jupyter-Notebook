{
 "cells": [
  {
   "cell_type": "code",
   "execution_count": 1,
   "id": "e54b058f-3547-4b61-9099-c921ed37673f",
   "metadata": {},
   "outputs": [
    {
     "name": "stdout",
     "output_type": "stream",
     "text": [
      "7\n"
     ]
    }
   ],
   "source": [
    "print(3+4)\n",
    "\n"
   ]
  },
  {
   "cell_type": "code",
   "execution_count": 2,
   "id": "c7bce035-e31c-4e40-8f88-514b6f3ed9a4",
   "metadata": {},
   "outputs": [
    {
     "name": "stdout",
     "output_type": "stream",
     "text": [
      "el que se mueva es gey\n"
     ]
    }
   ],
   "source": [
    "print(\"el que se mueva es gey\")"
   ]
  },
  {
   "cell_type": "code",
   "execution_count": null,
   "id": "04e76b56-9860-4a25-9ce3-ea63321cca44",
   "metadata": {},
   "outputs": [],
   "source": [
    "print("
   ]
  }
 ],
 "metadata": {
  "kernelspec": {
   "display_name": "Python 3 (ipykernel)",
   "language": "python",
   "name": "python3"
  },
  "language_info": {
   "codemirror_mode": {
    "name": "ipython",
    "version": 3
   },
   "file_extension": ".py",
   "mimetype": "text/x-python",
   "name": "python",
   "nbconvert_exporter": "python",
   "pygments_lexer": "ipython3",
   "version": "3.12.7"
  }
 },
 "nbformat": 4,
 "nbformat_minor": 5
}
