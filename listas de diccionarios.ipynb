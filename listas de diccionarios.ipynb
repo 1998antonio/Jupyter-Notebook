{
 "cells": [
  {
   "cell_type": "code",
   "execution_count": 1,
   "id": "370a782c-5af8-4090-a35c-6c2a0157d2db",
   "metadata": {},
   "outputs": [],
   "source": [
    "peliculas = [\n",
    "    {\"titulo\": \"El Padrino\", \"director\": \"Francis Ford Coppola\", \"año\": 1972, \"genero\": \"Crimen\"},\n",
    "    {\"titulo\": \"El Señor de los Anillos: La Comunidad del Anillo\", \"director\": \"Peter Jackson\", \"año\": 2001, \"genero\": \"Fantasía\"},\n",
    "    {\"titulo\": \"Matrix\", \"director\": \"Las Wachowski\", \"año\": 1999, \"genero\": \"Ciencia ficción\"}\n",
    "]"
   ]
  },
  {
   "cell_type": "code",
   "execution_count": 2,
   "id": "8055917f-16bf-4aab-a809-b19bf4b7168a",
   "metadata": {},
   "outputs": [
    {
     "data": {
      "text/plain": [
       "[{'titulo': 'El Padrino',\n",
       "  'director': 'Francis Ford Coppola',\n",
       "  'año': 1972,\n",
       "  'genero': 'Crimen'},\n",
       " {'titulo': 'El Señor de los Anillos: La Comunidad del Anillo',\n",
       "  'director': 'Peter Jackson',\n",
       "  'año': 2001,\n",
       "  'genero': 'Fantasía'},\n",
       " {'titulo': 'Matrix',\n",
       "  'director': 'Las Wachowski',\n",
       "  'año': 1999,\n",
       "  'genero': 'Ciencia ficción'}]"
      ]
     },
     "execution_count": 2,
     "metadata": {},
     "output_type": "execute_result"
    }
   ],
   "source": [
    "peliculas\n"
   ]
  },
  {
   "cell_type": "code",
   "execution_count": 5,
   "id": "b7a3c0bc-d92d-4f53-a506-a438e6c1ce88",
   "metadata": {},
   "outputs": [],
   "source": [
    "inventario = [\n",
    "    {\"producto\": \"Manzana\", \"cantidad\": 100, \"ubicacion\": \"Bodega A\"},\n",
    "    {\"producto\": \"Banana\", \"cantidad\": 50, \"ubicacion\": \"Bodega B\"},\n",
    "    {\"producto\": \"Naranja\", \"cantidad\": 75, \"ubicacion\": \"Bodega A\"}\n",
    "]\n"
   ]
  },
  {
   "cell_type": "code",
   "execution_count": 6,
   "id": "e4f7e58f-cc46-4d1f-976d-33af0fff2638",
   "metadata": {},
   "outputs": [
    {
     "data": {
      "text/plain": [
       "[{'producto': 'Manzana', 'cantidad': 100, 'ubicacion': 'Bodega A'},\n",
       " {'producto': 'Banana', 'cantidad': 50, 'ubicacion': 'Bodega B'},\n",
       " {'producto': 'Naranja', 'cantidad': 75, 'ubicacion': 'Bodega A'}]"
      ]
     },
     "execution_count": 6,
     "metadata": {},
     "output_type": "execute_result"
    }
   ],
   "source": [
    "inventario"
   ]
  },
  {
   "cell_type": "code",
   "execution_count": 7,
   "id": "2785d5ef-d1b4-4909-a076-7bae2fc02705",
   "metadata": {},
   "outputs": [],
   "source": [
    "datos_temperatura = [\n",
    "    {\"ciudad\": \"Madrid\", \"fecha\": \"2023-11-08\", \"temperatura\": 15},\n",
    "    {\"ciudad\": \"Nueva York\", \"fecha\": \"2023-11-08\", \"temperatura\": 10},\n",
    "    {\"ciudad\": \"Tokio\", \"fecha\": \"2023-11-08\", \"temperatura\": 22}\n",
    "]"
   ]
  },
  {
   "cell_type": "code",
   "execution_count": 8,
   "id": "99ad9718-13ec-4412-8096-ef73aeb779ff",
   "metadata": {},
   "outputs": [
    {
     "data": {
      "text/plain": [
       "[{'ciudad': 'Madrid', 'fecha': '2023-11-08', 'temperatura': 15},\n",
       " {'ciudad': 'Nueva York', 'fecha': '2023-11-08', 'temperatura': 10},\n",
       " {'ciudad': 'Tokio', 'fecha': '2023-11-08', 'temperatura': 22}]"
      ]
     },
     "execution_count": 8,
     "metadata": {},
     "output_type": "execute_result"
    }
   ],
   "source": [
    "datos_temperatura"
   ]
  }
 ],
 "metadata": {
  "kernelspec": {
   "display_name": "Python 3 (ipykernel)",
   "language": "python",
   "name": "python3"
  },
  "language_info": {
   "codemirror_mode": {
    "name": "ipython",
    "version": 3
   },
   "file_extension": ".py",
   "mimetype": "text/x-python",
   "name": "python",
   "nbconvert_exporter": "python",
   "pygments_lexer": "ipython3",
   "version": "3.12.7"
  }
 },
 "nbformat": 4,
 "nbformat_minor": 5
}
