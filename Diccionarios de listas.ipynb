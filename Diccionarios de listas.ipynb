{
 "cells": [
  {
   "cell_type": "code",
   "execution_count": 8,
   "id": "119933d8-d5c3-4fb7-8b91-91ac0af4592d",
   "metadata": {},
   "outputs": [],
   "source": [
    "agenda = {\n",
    "    \"Juan\": [12345678, 98765432],\n",
    "    \"María\": [55555555],\n",
    "    \"Pedro\": [11111111, 22222222, 33333333]\n",
    "}"
   ]
  },
  {
   "cell_type": "code",
   "execution_count": 10,
   "id": "2567594d-f3ec-49c1-8651-92275a66e8fd",
   "metadata": {},
   "outputs": [
    {
     "data": {
      "text/plain": [
       "{'Juan': [12345678, 98765432],\n",
       " 'María': [55555555],\n",
       " 'Pedro': [11111111, 22222222, 33333333]}"
      ]
     },
     "execution_count": 10,
     "metadata": {},
     "output_type": "execute_result"
    }
   ],
   "source": [
    "agenda\n"
   ]
  },
  {
   "cell_type": "code",
   "execution_count": 6,
   "id": "bb6f7b52-9930-4a7a-84a4-a1003cd7e18e",
   "metadata": {},
   "outputs": [],
   "source": [
    "inventario = {\n",
    "    \"Frutas\": [\"Manzana\", \"Banana\", \"Naranja\"],\n",
    "    \"Verduras\": [\"Lechuga\", \"Tomate\", \"Pepino\"],\n",
    "    \"Lácteos\": [\"Leche\", \"Queso\", \"Yogurt\"]\n",
    "}"
   ]
  },
  {
   "cell_type": "code",
   "execution_count": 7,
   "id": "d97693e6-ec61-4263-8930-c12d2f185d4b",
   "metadata": {},
   "outputs": [
    {
     "data": {
      "text/plain": [
       "{'Frutas': ['Manzana', 'Banana', 'Naranja'],\n",
       " 'Verduras': ['Lechuga', 'Tomate', 'Pepino'],\n",
       " 'Lácteos': ['Leche', 'Queso', 'Yogurt']}"
      ]
     },
     "execution_count": 7,
     "metadata": {},
     "output_type": "execute_result"
    }
   ],
   "source": [
    "inventario"
   ]
  },
  {
   "cell_type": "code",
   "execution_count": 14,
   "id": "383e5626-b412-4001-bd15-62f87a8d761b",
   "metadata": {},
   "outputs": [],
   "source": [
    "estudiantes = [\n",
    "    {\"nombre\": \"Juan\", \"edad\": 20, \"calificaciones\": [8, 7, 9]},\n",
    "    {\"nombre\": \"María\", \"edad\": 19, \"calificaciones\": [9, 10, 8]},\n",
    "    {\"nombre\": \"Pedro\", \"edad\": 21, \"calificaciones\": [7, 6, 7]}\n",
    "]"
   ]
  },
  {
   "cell_type": "code",
   "execution_count": 15,
   "id": "2c090b0d-b784-4617-9cce-ff28a88ce398",
   "metadata": {},
   "outputs": [
    {
     "data": {
      "text/plain": [
       "[{'nombre': 'Juan', 'edad': 20, 'calificaciones': [8, 7, 9]},\n",
       " {'nombre': 'María', 'edad': 19, 'calificaciones': [9, 10, 8]},\n",
       " {'nombre': 'Pedro', 'edad': 21, 'calificaciones': [7, 6, 7]}]"
      ]
     },
     "execution_count": 15,
     "metadata": {},
     "output_type": "execute_result"
    }
   ],
   "source": [
    "estudiantes"
   ]
  }
 ],
 "metadata": {
  "kernelspec": {
   "display_name": "Python 3 (ipykernel)",
   "language": "python",
   "name": "python3"
  },
  "language_info": {
   "codemirror_mode": {
    "name": "ipython",
    "version": 3
   },
   "file_extension": ".py",
   "mimetype": "text/x-python",
   "name": "python",
   "nbconvert_exporter": "python",
   "pygments_lexer": "ipython3",
   "version": "3.12.7"
  }
 },
 "nbformat": 4,
 "nbformat_minor": 5
}
