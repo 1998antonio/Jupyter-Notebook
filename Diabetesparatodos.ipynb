{
 "cells": [
  {
   "cell_type": "markdown",
   "id": "df6690de-3bda-41eb-af82-08cb62b295e2",
   "metadata": {},
   "source": [
    "# DIABETES PARA TODOS \n",
    "EN ESTE EJERCICIO SE ESTUDIAN LOS DIFERENTES ESTILOS DE VIDA QUE SE OBTUVIERON PARA PODER ANALIZAR LOS RESULTADOS Y PODER OBTENER UN RESULTADO SOBRE SI ES PROBABLE O NO QUE TENGA DIABETES.\n",
    "SE CUENTAN CON MULTIPLES DATOS DE LOS CUALES ESTAN CLASIFICACION COMO `0` SI EL RESULTADO ES NEGATIVO Y `1` SI EL RESULTADO ES POSITIVO.\n",
    "\n",
    "SE UTILIZARA UNA SVM DE CLASIFICACION.\n"
   ]
  },
  {
   "cell_type": "code",
   "execution_count": 1,
   "id": "51719223-938f-4306-9aff-d9ea2dc52226",
   "metadata": {},
   "outputs": [],
   "source": [
    "# Manipulación y analisis de datos\n",
    "import pandas as pd\n",
    "# Manipulacion de datos numericos\n",
    "import numpy as np\n",
    "# Para medición del tiempo que toma ejecutar los procesos\n",
    "from time import time\n",
    "# Para separar datos de entrenamiento y prueba\n",
    "from sklearn.model_selection import train_test_split\n",
    "# Librería para SVM\n",
    "from sklearn.svm import SVC\n",
    "# Medición de precisión\n",
    "from sklearn.metrics import accuracy_score, confusion_matrix\n",
    "# Generar gráficos\n",
    "import matplotlib.pyplot as plt"
   ]
  },
  {
   "cell_type": "markdown",
   "id": "de057c1d-f256-49a3-8b1b-ba20bdbbaf95",
   "metadata": {},
   "source": [
    "DESPUES DE IMPORTAR LA LIBRERIAS NECESARIAS, COMENZAMOS CARGANDO LOS DATOS DESDE UN CSV PARA PODER MANIPULAR LOS DATOS Y LEERLOS."
   ]
  },
  {
   "cell_type": "code",
   "execution_count": 2,
   "id": "3e71e64c-b46a-4e07-ac79-e072444f483c",
   "metadata": {},
   "outputs": [
    {
     "name": "stdout",
     "output_type": "stream",
     "text": [
      "<class 'pandas.core.frame.DataFrame'>\n",
      "RangeIndex: 253680 entries, 0 to 253679\n",
      "Data columns (total 22 columns):\n",
      " #   Column                Non-Null Count   Dtype  \n",
      "---  ------                --------------   -----  \n",
      " 0   Diabetes_binary       253680 non-null  float64\n",
      " 1   HighBP                253680 non-null  float64\n",
      " 2   HighChol              253680 non-null  float64\n",
      " 3   CholCheck             253680 non-null  float64\n",
      " 4   BMI                   253680 non-null  float64\n",
      " 5   Smoker                253680 non-null  float64\n",
      " 6   Stroke                253680 non-null  float64\n",
      " 7   HeartDiseaseorAttack  253680 non-null  float64\n",
      " 8   PhysActivity          253680 non-null  float64\n",
      " 9   Fruits                253680 non-null  float64\n",
      " 10  Veggies               253680 non-null  float64\n",
      " 11  HvyAlcoholConsump     253680 non-null  float64\n",
      " 12  AnyHealthcare         253680 non-null  float64\n",
      " 13  NoDocbcCost           253680 non-null  float64\n",
      " 14  GenHlth               253680 non-null  float64\n",
      " 15  MentHlth              253680 non-null  float64\n",
      " 16  PhysHlth              253680 non-null  float64\n",
      " 17  DiffWalk              253680 non-null  float64\n",
      " 18  Sex                   253680 non-null  float64\n",
      " 19  Age                   253680 non-null  float64\n",
      " 20  Education             253680 non-null  float64\n",
      " 21  Income                253680 non-null  float64\n",
      "dtypes: float64(22)\n",
      "memory usage: 42.6 MB\n"
     ]
    }
   ],
   "source": [
    "# Leemos el set de datos y lo cargamos en la variable df, que es un DataFrame de pandas\n",
    "diabetes_df = pd.read_csv('diabetes_binary.csv')\n",
    "# Mostrar información sobre el set de datos\n",
    "diabetes_df.info()"
   ]
  },
  {
   "cell_type": "markdown",
   "id": "0b011cb9-0316-4b57-ac41-a4d7349ea569",
   "metadata": {},
   "source": [
    "HAY VARIAS FUNCIONES QUE PERMITEN EXPLORAR LOS DATOS CON LOS QUE SE VAN A TRABAJAR, EN ESTE CASO SE PUEDEN MOSTRAR LOS PRIMERO 5 DATOS QUE TIENE EL CSV."
   ]
  },
  {
   "cell_type": "code",
   "execution_count": 3,
   "id": "b26731fd-b9fb-416a-b3c9-fb796125b9fb",
   "metadata": {},
   "outputs": [
    {
     "data": {
      "text/html": [
       "<div>\n",
       "<style scoped>\n",
       "    .dataframe tbody tr th:only-of-type {\n",
       "        vertical-align: middle;\n",
       "    }\n",
       "\n",
       "    .dataframe tbody tr th {\n",
       "        vertical-align: top;\n",
       "    }\n",
       "\n",
       "    .dataframe thead th {\n",
       "        text-align: right;\n",
       "    }\n",
       "</style>\n",
       "<table border=\"1\" class=\"dataframe\">\n",
       "  <thead>\n",
       "    <tr style=\"text-align: right;\">\n",
       "      <th></th>\n",
       "      <th>Diabetes_binary</th>\n",
       "      <th>HighBP</th>\n",
       "      <th>HighChol</th>\n",
       "      <th>CholCheck</th>\n",
       "      <th>BMI</th>\n",
       "      <th>Smoker</th>\n",
       "      <th>Stroke</th>\n",
       "      <th>HeartDiseaseorAttack</th>\n",
       "      <th>PhysActivity</th>\n",
       "      <th>Fruits</th>\n",
       "      <th>...</th>\n",
       "      <th>AnyHealthcare</th>\n",
       "      <th>NoDocbcCost</th>\n",
       "      <th>GenHlth</th>\n",
       "      <th>MentHlth</th>\n",
       "      <th>PhysHlth</th>\n",
       "      <th>DiffWalk</th>\n",
       "      <th>Sex</th>\n",
       "      <th>Age</th>\n",
       "      <th>Education</th>\n",
       "      <th>Income</th>\n",
       "    </tr>\n",
       "  </thead>\n",
       "  <tbody>\n",
       "    <tr>\n",
       "      <th>0</th>\n",
       "      <td>0.0</td>\n",
       "      <td>1.0</td>\n",
       "      <td>1.0</td>\n",
       "      <td>1.0</td>\n",
       "      <td>40.0</td>\n",
       "      <td>1.0</td>\n",
       "      <td>0.0</td>\n",
       "      <td>0.0</td>\n",
       "      <td>0.0</td>\n",
       "      <td>0.0</td>\n",
       "      <td>...</td>\n",
       "      <td>1.0</td>\n",
       "      <td>0.0</td>\n",
       "      <td>5.0</td>\n",
       "      <td>18.0</td>\n",
       "      <td>15.0</td>\n",
       "      <td>1.0</td>\n",
       "      <td>0.0</td>\n",
       "      <td>9.0</td>\n",
       "      <td>4.0</td>\n",
       "      <td>3.0</td>\n",
       "    </tr>\n",
       "    <tr>\n",
       "      <th>1</th>\n",
       "      <td>0.0</td>\n",
       "      <td>0.0</td>\n",
       "      <td>0.0</td>\n",
       "      <td>0.0</td>\n",
       "      <td>25.0</td>\n",
       "      <td>1.0</td>\n",
       "      <td>0.0</td>\n",
       "      <td>0.0</td>\n",
       "      <td>1.0</td>\n",
       "      <td>0.0</td>\n",
       "      <td>...</td>\n",
       "      <td>0.0</td>\n",
       "      <td>1.0</td>\n",
       "      <td>3.0</td>\n",
       "      <td>0.0</td>\n",
       "      <td>0.0</td>\n",
       "      <td>0.0</td>\n",
       "      <td>0.0</td>\n",
       "      <td>7.0</td>\n",
       "      <td>6.0</td>\n",
       "      <td>1.0</td>\n",
       "    </tr>\n",
       "    <tr>\n",
       "      <th>2</th>\n",
       "      <td>0.0</td>\n",
       "      <td>1.0</td>\n",
       "      <td>1.0</td>\n",
       "      <td>1.0</td>\n",
       "      <td>28.0</td>\n",
       "      <td>0.0</td>\n",
       "      <td>0.0</td>\n",
       "      <td>0.0</td>\n",
       "      <td>0.0</td>\n",
       "      <td>1.0</td>\n",
       "      <td>...</td>\n",
       "      <td>1.0</td>\n",
       "      <td>1.0</td>\n",
       "      <td>5.0</td>\n",
       "      <td>30.0</td>\n",
       "      <td>30.0</td>\n",
       "      <td>1.0</td>\n",
       "      <td>0.0</td>\n",
       "      <td>9.0</td>\n",
       "      <td>4.0</td>\n",
       "      <td>8.0</td>\n",
       "    </tr>\n",
       "    <tr>\n",
       "      <th>3</th>\n",
       "      <td>0.0</td>\n",
       "      <td>1.0</td>\n",
       "      <td>0.0</td>\n",
       "      <td>1.0</td>\n",
       "      <td>27.0</td>\n",
       "      <td>0.0</td>\n",
       "      <td>0.0</td>\n",
       "      <td>0.0</td>\n",
       "      <td>1.0</td>\n",
       "      <td>1.0</td>\n",
       "      <td>...</td>\n",
       "      <td>1.0</td>\n",
       "      <td>0.0</td>\n",
       "      <td>2.0</td>\n",
       "      <td>0.0</td>\n",
       "      <td>0.0</td>\n",
       "      <td>0.0</td>\n",
       "      <td>0.0</td>\n",
       "      <td>11.0</td>\n",
       "      <td>3.0</td>\n",
       "      <td>6.0</td>\n",
       "    </tr>\n",
       "    <tr>\n",
       "      <th>4</th>\n",
       "      <td>0.0</td>\n",
       "      <td>1.0</td>\n",
       "      <td>1.0</td>\n",
       "      <td>1.0</td>\n",
       "      <td>24.0</td>\n",
       "      <td>0.0</td>\n",
       "      <td>0.0</td>\n",
       "      <td>0.0</td>\n",
       "      <td>1.0</td>\n",
       "      <td>1.0</td>\n",
       "      <td>...</td>\n",
       "      <td>1.0</td>\n",
       "      <td>0.0</td>\n",
       "      <td>2.0</td>\n",
       "      <td>3.0</td>\n",
       "      <td>0.0</td>\n",
       "      <td>0.0</td>\n",
       "      <td>0.0</td>\n",
       "      <td>11.0</td>\n",
       "      <td>5.0</td>\n",
       "      <td>4.0</td>\n",
       "    </tr>\n",
       "  </tbody>\n",
       "</table>\n",
       "<p>5 rows × 22 columns</p>\n",
       "</div>"
      ],
      "text/plain": [
       "   Diabetes_binary  HighBP  HighChol  CholCheck   BMI  Smoker  Stroke  \\\n",
       "0              0.0     1.0       1.0        1.0  40.0     1.0     0.0   \n",
       "1              0.0     0.0       0.0        0.0  25.0     1.0     0.0   \n",
       "2              0.0     1.0       1.0        1.0  28.0     0.0     0.0   \n",
       "3              0.0     1.0       0.0        1.0  27.0     0.0     0.0   \n",
       "4              0.0     1.0       1.0        1.0  24.0     0.0     0.0   \n",
       "\n",
       "   HeartDiseaseorAttack  PhysActivity  Fruits  ...  AnyHealthcare  \\\n",
       "0                   0.0           0.0     0.0  ...            1.0   \n",
       "1                   0.0           1.0     0.0  ...            0.0   \n",
       "2                   0.0           0.0     1.0  ...            1.0   \n",
       "3                   0.0           1.0     1.0  ...            1.0   \n",
       "4                   0.0           1.0     1.0  ...            1.0   \n",
       "\n",
       "   NoDocbcCost  GenHlth  MentHlth  PhysHlth  DiffWalk  Sex   Age  Education  \\\n",
       "0          0.0      5.0      18.0      15.0       1.0  0.0   9.0        4.0   \n",
       "1          1.0      3.0       0.0       0.0       0.0  0.0   7.0        6.0   \n",
       "2          1.0      5.0      30.0      30.0       1.0  0.0   9.0        4.0   \n",
       "3          0.0      2.0       0.0       0.0       0.0  0.0  11.0        3.0   \n",
       "4          0.0      2.0       3.0       0.0       0.0  0.0  11.0        5.0   \n",
       "\n",
       "   Income  \n",
       "0     3.0  \n",
       "1     1.0  \n",
       "2     8.0  \n",
       "3     6.0  \n",
       "4     4.0  \n",
       "\n",
       "[5 rows x 22 columns]"
      ]
     },
     "execution_count": 3,
     "metadata": {},
     "output_type": "execute_result"
    }
   ],
   "source": [
    "diabetes_df.head()"
   ]
  },
  {
   "cell_type": "code",
   "execution_count": null,
   "id": "3d78fec7-27ac-403f-a0a2-5a627264b6ed",
   "metadata": {},
   "outputs": [],
   "source": [
    "TAMBIEN SE PUEDEN CONTAR LOS VALORES QUE SE TIENE EN UNA MISMA COLUMNA."
   ]
  },
  {
   "cell_type": "code",
   "execution_count": 4,
   "id": "5ca160d4-613a-491f-9ec2-e8a24d2fbcea",
   "metadata": {},
   "outputs": [
    {
     "data": {
      "text/plain": [
       "Sex\n",
       "0.0    141974\n",
       "1.0    111706\n",
       "Name: count, dtype: int64"
      ]
     },
     "execution_count": 4,
     "metadata": {},
     "output_type": "execute_result"
    }
   ],
   "source": [
    "# Contar los valores únicos de una columna en un DataFrame\n",
    "diabetes_df['Sex'].value_counts()"
   ]
  },
  {
   "cell_type": "markdown",
   "id": "f6de7c90-aca9-4c83-b4b5-7aef358a07ce",
   "metadata": {},
   "source": [
    "LA COLUMNA QUE SE TOMARA EN CUENTA ES LA PRIMERA EN DONDE NOS INDICA LAS PERSONAS TIENE O NO DIABETES PARA PODER HACER EL ANALISIS."
   ]
  },
  {
   "cell_type": "code",
   "execution_count": 5,
   "id": "58ca0792-fef2-4f46-9533-8ac7a265cbac",
   "metadata": {},
   "outputs": [
    {
     "data": {
      "text/plain": [
       "Diabetes_binary\n",
       "0.0    218334\n",
       "1.0     35346\n",
       "Name: count, dtype: int64"
      ]
     },
     "execution_count": 5,
     "metadata": {},
     "output_type": "execute_result"
    }
   ],
   "source": [
    "diabetes_df['Diabetes_binary'].value_counts()"
   ]
  },
  {
   "cell_type": "markdown",
   "id": "b55875d7-a5e7-46e7-a5ba-f8681745977d",
   "metadata": {},
   "source": [
    "PARA REALIZAR UN ENTRENAMIENTO ES NECESARIO SEPARAR LAS CARACTERISTICAS DE LAS ETIQUETAS. SE CLASIFICAN COMO `X` Y `Y`"
   ]
  },
  {
   "cell_type": "code",
   "execution_count": 6,
   "id": "5c05620e-e6c5-4821-8b78-712edd5ed2dc",
   "metadata": {},
   "outputs": [
    {
     "data": {
      "text/html": [
       "<div>\n",
       "<style scoped>\n",
       "    .dataframe tbody tr th:only-of-type {\n",
       "        vertical-align: middle;\n",
       "    }\n",
       "\n",
       "    .dataframe tbody tr th {\n",
       "        vertical-align: top;\n",
       "    }\n",
       "\n",
       "    .dataframe thead th {\n",
       "        text-align: right;\n",
       "    }\n",
       "</style>\n",
       "<table border=\"1\" class=\"dataframe\">\n",
       "  <thead>\n",
       "    <tr style=\"text-align: right;\">\n",
       "      <th></th>\n",
       "      <th>HighBP</th>\n",
       "      <th>HighChol</th>\n",
       "      <th>CholCheck</th>\n",
       "      <th>BMI</th>\n",
       "      <th>Smoker</th>\n",
       "    </tr>\n",
       "  </thead>\n",
       "  <tbody>\n",
       "    <tr>\n",
       "      <th>0</th>\n",
       "      <td>1.0</td>\n",
       "      <td>1.0</td>\n",
       "      <td>1.0</td>\n",
       "      <td>40.0</td>\n",
       "      <td>1.0</td>\n",
       "    </tr>\n",
       "    <tr>\n",
       "      <th>1</th>\n",
       "      <td>0.0</td>\n",
       "      <td>0.0</td>\n",
       "      <td>0.0</td>\n",
       "      <td>25.0</td>\n",
       "      <td>1.0</td>\n",
       "    </tr>\n",
       "    <tr>\n",
       "      <th>2</th>\n",
       "      <td>1.0</td>\n",
       "      <td>1.0</td>\n",
       "      <td>1.0</td>\n",
       "      <td>28.0</td>\n",
       "      <td>0.0</td>\n",
       "    </tr>\n",
       "    <tr>\n",
       "      <th>3</th>\n",
       "      <td>1.0</td>\n",
       "      <td>0.0</td>\n",
       "      <td>1.0</td>\n",
       "      <td>27.0</td>\n",
       "      <td>0.0</td>\n",
       "    </tr>\n",
       "    <tr>\n",
       "      <th>4</th>\n",
       "      <td>1.0</td>\n",
       "      <td>1.0</td>\n",
       "      <td>1.0</td>\n",
       "      <td>24.0</td>\n",
       "      <td>0.0</td>\n",
       "    </tr>\n",
       "  </tbody>\n",
       "</table>\n",
       "</div>"
      ],
      "text/plain": [
       "   HighBP  HighChol  CholCheck   BMI  Smoker\n",
       "0     1.0       1.0        1.0  40.0     1.0\n",
       "1     0.0       0.0        0.0  25.0     1.0\n",
       "2     1.0       1.0        1.0  28.0     0.0\n",
       "3     1.0       0.0        1.0  27.0     0.0\n",
       "4     1.0       1.0        1.0  24.0     0.0"
      ]
     },
     "execution_count": 6,
     "metadata": {},
     "output_type": "execute_result"
    }
   ],
   "source": [
    "# Crearemos un nuevo df llamado X (notar mayus) con las columnas de características\n",
    "# Se obtiene generando una lista de columnas del df a utilizar\n",
    "lista_caract = [\n",
    "   'HighBP',                \n",
    "   'HighChol',              \n",
    "   'CholCheck',            \n",
    "   'BMI',                   \n",
    "   'Smoker'                \n",
    "     \n",
    "]\n",
    "# Luego tomando esa lista del df original\n",
    "X = diabetes_df[lista_caract]\n",
    "# Mostraremos los primeros cinco registros para conocer cómo se compone X\n",
    "X.head()"
   ]
  },
  {
   "cell_type": "markdown",
   "id": "c48e5239-e30e-4eb0-aad2-7e1ffecde4e8",
   "metadata": {},
   "source": [
    "EN ESTE CAMPO SE UTILIZA LA COLUMNA QUE SE DESEA UTILIZAR COMO RESULTADO EN EL QUE SABREMOS SI EL DIAGNOSTICO DE DIABETES ES POSITIVO O NO."
   ]
  },
  {
   "cell_type": "code",
   "execution_count": 7,
   "id": "ed805457-e0bf-4f5b-a9b6-ee30bab850da",
   "metadata": {},
   "outputs": [
    {
     "data": {
      "text/html": [
       "<div>\n",
       "<style scoped>\n",
       "    .dataframe tbody tr th:only-of-type {\n",
       "        vertical-align: middle;\n",
       "    }\n",
       "\n",
       "    .dataframe tbody tr th {\n",
       "        vertical-align: top;\n",
       "    }\n",
       "\n",
       "    .dataframe thead th {\n",
       "        text-align: right;\n",
       "    }\n",
       "</style>\n",
       "<table border=\"1\" class=\"dataframe\">\n",
       "  <thead>\n",
       "    <tr style=\"text-align: right;\">\n",
       "      <th></th>\n",
       "      <th>Diabetes_binary</th>\n",
       "    </tr>\n",
       "  </thead>\n",
       "  <tbody>\n",
       "    <tr>\n",
       "      <th>0</th>\n",
       "      <td>0.0</td>\n",
       "    </tr>\n",
       "    <tr>\n",
       "      <th>1</th>\n",
       "      <td>0.0</td>\n",
       "    </tr>\n",
       "    <tr>\n",
       "      <th>2</th>\n",
       "      <td>0.0</td>\n",
       "    </tr>\n",
       "    <tr>\n",
       "      <th>3</th>\n",
       "      <td>0.0</td>\n",
       "    </tr>\n",
       "    <tr>\n",
       "      <th>4</th>\n",
       "      <td>0.0</td>\n",
       "    </tr>\n",
       "  </tbody>\n",
       "</table>\n",
       "</div>"
      ],
      "text/plain": [
       "   Diabetes_binary\n",
       "0              0.0\n",
       "1              0.0\n",
       "2              0.0\n",
       "3              0.0\n",
       "4              0.0"
      ]
     },
     "execution_count": 7,
     "metadata": {},
     "output_type": "execute_result"
    }
   ],
   "source": [
    "# Utilizaremos el mismo procedimiento para generar y\n",
    "lista_etiq = ['Diabetes_binary']\n",
    "y = diabetes_df[lista_etiq]\n",
    "y.head()"
   ]
  },
  {
   "cell_type": "markdown",
   "id": "09e6bde1-76f3-4567-ae8d-2ebabba40a73",
   "metadata": {},
   "source": [
    "YA QUE SE OBTIENEN LOS DATOS `X` Y `Y` SE PROCEDE A SEPARARLOS EN CONJUNTO DE ENTRENAMIENTO PARA APRENDER Y PRUEBA PARA VALIDAR.\n",
    "ESTE PROCESO LO REALIZAREMOS CON LA FUNCION `train_test_split`."
   ]
  },
  {
   "cell_type": "code",
   "execution_count": 16,
   "id": "206f5065-331c-45a8-892c-cdae57b60255",
   "metadata": {},
   "outputs": [],
   "source": [
    "# Separar en datos de entrenamiento y datos de prueba\n",
    "X_train, X_test, y_train, y_test = train_test_split(\n",
    "    X,\n",
    "    y,\n",
    "    train_size=0.1,\n",
    "    test_size=0.1\n",
    "    \n",
    ")"
   ]
  },
  {
   "cell_type": "code",
   "execution_count": 17,
   "id": "ddc4e8ca-cb1f-476b-8a3c-2bcbbbfb4bd2",
   "metadata": {},
   "outputs": [
    {
     "data": {
      "text/plain": [
       "(25368, 5)"
      ]
     },
     "execution_count": 17,
     "metadata": {},
     "output_type": "execute_result"
    }
   ],
   "source": [
    "# Aqui se mostraran los datos que se van a utilizar en el entrenamiento\n",
    "X_train.shape"
   ]
  },
  {
   "cell_type": "code",
   "execution_count": 18,
   "id": "878f21ea-91c5-4d61-9194-de1d92e5c14b",
   "metadata": {},
   "outputs": [
    {
     "data": {
      "text/plain": [
       "(25368, 1)"
      ]
     },
     "execution_count": 18,
     "metadata": {},
     "output_type": "execute_result"
    }
   ],
   "source": [
    "y_train.shape"
   ]
  },
  {
   "cell_type": "code",
   "execution_count": 19,
   "id": "055e27bf-b142-4379-abc9-bf36d1d13a98",
   "metadata": {},
   "outputs": [
    {
     "data": {
      "text/plain": [
       "(25368, 5)"
      ]
     },
     "execution_count": 19,
     "metadata": {},
     "output_type": "execute_result"
    }
   ],
   "source": [
    "# Luego, la cantidad de datos a utilizar para validar\n",
    "X_test.shape"
   ]
  },
  {
   "cell_type": "code",
   "execution_count": 20,
   "id": "d865ec4b-8b48-49ba-aad2-70607ba9610f",
   "metadata": {},
   "outputs": [
    {
     "data": {
      "text/plain": [
       "(25368, 1)"
      ]
     },
     "execution_count": 20,
     "metadata": {},
     "output_type": "execute_result"
    }
   ],
   "source": [
    "y_test.shape"
   ]
  },
  {
   "cell_type": "markdown",
   "id": "89b637aa-6e4f-498f-b828-322c8ff4e49b",
   "metadata": {},
   "source": [
    "\n",
    "\n",
    "# SVC\n",
    "SE UTILIZARA UN SVC PARA CLASIFICACION QUE IMPORTAMOS EN EL INICIO Y UN KERNEL LINEAL PARA QUE EL PROCESO SEA MAS RAPIDO."
   ]
  },
  {
   "cell_type": "code",
   "execution_count": 21,
   "id": "7a8888f6-d4b1-4c85-b487-2d1ed0d52a48",
   "metadata": {},
   "outputs": [],
   "source": [
    "# Definició del modelo que llamaremos clf\n",
    "clf = SVC(kernel='linear')"
   ]
  },
  {
   "cell_type": "markdown",
   "id": "b603ccdd-e259-4a5e-b979-70e0d85af41b",
   "metadata": {},
   "source": [
    "\n",
    "\n",
    "\n",
    "PARA HACER UN ENTRENAMIENTO DE UN MODELO SKLEARN BASTA CON LLAMAR EL METODO FIT CON EL CUAL SE ENCUENTRAN LAS RELACIONES ENTRE `X` Y `Y`"
   ]
  },
  {
   "cell_type": "code",
   "execution_count": 22,
   "id": "0e00b438-c77a-45a5-8d3e-dc88aaef46c2",
   "metadata": {},
   "outputs": [
    {
     "name": "stdout",
     "output_type": "stream",
     "text": [
      "Entrenamiento terminado en 26.1796932220459 segundos\n"
     ]
    }
   ],
   "source": [
    "# Guardamos el registro del momento en el que empezamos el entrenamiento\n",
    "hora_inicio = time()\n",
    "\n",
    "# Iniciamos el entrenamiento ejecutando el metodo fit\n",
    "# Los valores que enviamos son los valores de X y y\n",
    "#\n",
    "# El .ravel() que final de y.values es un pequeño truco para cambiar su forma\n",
    "# esto permite convertir una matriz de dos dimensiones en una sola dimesión,\n",
    "# con ello, cada elemento de esta nueva matriz corresponde a un registro de X\n",
    "clf.fit(X_train.values, y_train.values.ravel())\n",
    "\n",
    "# Imprimimos el tiempo tomado para el entrenamiento\n",
    "print(\"Entrenamiento terminado en {} segundos\".format(time() - hora_inicio))"
   ]
  },
  {
   "cell_type": "markdown",
   "id": "3b49428f-06d1-45e8-a9d9-c41b5fca442f",
   "metadata": {},
   "source": [
    "CUANDO EL ENTRENAMIENTO TERMINE PROCEDEMOS A HACER MEDIR SU PRECISION, PARA ESO SE INTENTARA PREDECIR DE NUESTRAS X Y Y DE PRUEBA."
   ]
  },
  {
   "cell_type": "code",
   "execution_count": 23,
   "id": "9e739675-0c77-4efd-9fe8-f3bf0672acfc",
   "metadata": {},
   "outputs": [
    {
     "name": "stderr",
     "output_type": "stream",
     "text": [
      "C:\\ProgramData\\anaconda3\\Lib\\site-packages\\sklearn\\base.py:486: UserWarning: X has feature names, but SVC was fitted without feature names\n",
      "  warnings.warn(\n"
     ]
    },
    {
     "name": "stdout",
     "output_type": "stream",
     "text": [
      "Predicción terminada en 7.6167871952056885 segundos\n"
     ]
    }
   ],
   "source": [
    "# Otra vez guardaremos registro del tiempo que nos toma crear esta predicción\n",
    "hora_inicio = time()\n",
    "# Iniciamos la predicción con nuestra X de prueba\n",
    "y_pred = clf.predict(X_test)\n",
    "# Mostramos el tiempo tomado para la predicción\n",
    "print(\"Predicción terminada en {} segundos\".format(time() - hora_inicio))"
   ]
  },
  {
   "cell_type": "markdown",
   "id": "f2c31039-593b-40be-ac87-2e20bbb4493c",
   "metadata": {},
   "source": [
    "UNA VEZ TERMINADA LA PREDICCION, EVALUAMOS  LA PRECISION CON LA FUNCION `accuracy_score`, ESTO NOS MOSTRARA EL PROCENTAJE DE PREDICCIONES CORRECTAS."
   ]
  },
  {
   "cell_type": "code",
   "execution_count": 24,
   "id": "e51014a0-a24a-497d-9dbb-a9ef980218cd",
   "metadata": {},
   "outputs": [
    {
     "data": {
      "text/plain": [
       "0.8601387574897509"
      ]
     },
     "execution_count": 24,
     "metadata": {},
     "output_type": "execute_result"
    }
   ],
   "source": [
    "# Evaluamos la precisión \n",
    "accuracy_score(y_test, y_pred)"
   ]
  },
  {
   "cell_type": "markdown",
   "id": "3d775020-2426-44bc-8945-fba4c37120da",
   "metadata": {},
   "source": [
    "\n",
    "\n",
    "# MATRIZ DE CONFUSION\n",
    "REALIZAMOS UNA MATRIZ DE CONFUSION PARA PODER ENTENDER MEJOR EL RENDIMIENTO DE NUESTRO MODELO, SE ENCARGARA DE COMPARAR LA CANTIDAD DE ACIERTOS DE PRUEBA Y DE DATOS CALCULADOS (PREDICCION)."
   ]
  },
  {
   "cell_type": "code",
   "execution_count": 25,
   "id": "3827308a-3e30-4f69-9056-76104e32fd02",
   "metadata": {},
   "outputs": [
    {
     "data": {
      "text/plain": [
       "array([[21820,     0],\n",
       "       [ 3548,     0]], dtype=int64)"
      ]
     },
     "execution_count": 25,
     "metadata": {},
     "output_type": "execute_result"
    }
   ],
   "source": [
    "# La función confusion_matrix recibe las \"respuestas correctas\" y nuestras predicciones\n",
    "# genera una matriz que indica, para cada clase, la cantidad de predicciones correctas e incorrectas\n",
    "conf_diabetes = confusion_matrix(y_test, y_pred)\n",
    "conf_diabetes"
   ]
  },
  {
   "cell_type": "markdown",
   "id": "933d0c10-ee61-4939-b8a9-809200eb37b9",
   "metadata": {},
   "source": [
    "LA SIGUIENTE PARTE MOSTRARA DE FORMA GRAFICA LOS RESULTADOS OBTENIDOS."
   ]
  },
  {
   "cell_type": "code",
   "execution_count": 26,
   "id": "27c6ddc8-a85d-47a8-bfff-0a96f26da593",
   "metadata": {},
   "outputs": [],
   "source": [
    "def plot_cm(cm, classes):\n",
    "    \"\"\"Esta función se encarga de generar un gráfico con nuestra matriz de confusión.\n",
    "    cm es la matriz generada por confusion_matrix\n",
    "    classes es una lista que contiene las posibles clases que puede predecir nuestro modelo\n",
    "    \"\"\"\n",
    "    plt.imshow(cm, cmap=plt.cm.Blues)\n",
    "    plt.title('Matriz de confusión')\n",
    "    plt.colorbar()\n",
    "    tick_marks = np.arange(len(classes))\n",
    "    plt.xticks(tick_marks, classes, rotation=45)\n",
    "    plt.yticks(tick_marks, classes)\n",
    "    thresh = cm.max() / 2.\n",
    "    for indice_fila, fila in enumerate(cm):\n",
    "        for indice_columna, columna in enumerate(fila):\n",
    "            if cm[indice_fila, indice_columna] > thresh:\n",
    "                color = \"white\"\n",
    "            else:\n",
    "                color = \"black\"\n",
    "            plt.text(\n",
    "                indice_columna,\n",
    "                indice_fila,\n",
    "                cm[indice_fila, indice_columna],\n",
    "                color=color,\n",
    "                horizontalalignment=\"center\"\n",
    "            )\n",
    "    plt.ylabel(\"Valores reales\")\n",
    "    plt.xlabel(\"Valores calculados\")\n",
    "    plt.show()"
   ]
  },
  {
   "cell_type": "code",
   "execution_count": 27,
   "id": "dddaddb9-2a4e-4fa0-ae52-bade747accf4",
   "metadata": {},
   "outputs": [
    {
     "data": {
      "image/png": "[encoded data removed]",
      "text/plain": [
       "<Figure size 640x480 with 2 Axes>"
      ]
     },
     "metadata": {},
     "output_type": "display_data"
    }
   ],
   "source": [
    "# Generamos el gráfico llamando la función que creamos y enviando los parámetros\n",
    "# cm = nuestra matriz de confusión (conf_diabetes)\n",
    "# classes = las clases a predecir (si tienen diabetes o no)\n",
    "plot_cm(conf_diabetes, ['No diabetes', 'Sí diabetes'])"
   ]
  }
 ],
 "metadata": {
  "kernelspec": {
   "display_name": "Python 3 (ipykernel)",
   "language": "python",
   "name": "python3"
  },
  "language_info": {
   "codemirror_mode": {
    "name": "ipython",
    "version": 3
   },
   "file_extension": ".py",
   "mimetype": "text/x-python",
   "name": "python",
   "nbconvert_exporter": "python",
   "pygments_lexer": "ipython3",
   "version": "3.12.7"
  }
 },
 "nbformat": 4,
 "nbformat_minor": 5
}
